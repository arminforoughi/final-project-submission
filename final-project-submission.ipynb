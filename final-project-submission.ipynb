{
 "cells": [
  {
   "cell_type": "markdown",
   "id": "45762487-d33f-486d-8e38-2cdea04e3528",
   "metadata": {},
   "source": [
    "# Metadata\n",
    "\n",
    "* Title: **Final Project Report**\n",
    "* Class: DS 5100\n",
    "* Date:\n",
    "* Student Name: Armin Foroughi\n",
    "* Student Net ID: zdt3jg \n",
    "* This URL: http://localhost:8888/notebooks/Documents/UVA/final_project/final-project-submission.ipynb#Directory-Listing\n",
    "* GitHub Repo URL: https://github.com/arminforoughi/final-project-submission"
   ]
  },
  {
   "cell_type": "markdown",
   "id": "d32cb273-9a40-4909-a7ce-51f6e4958d3c",
   "metadata": {},
   "source": [
    "# The Monte Carlo Module"
   ]
  },
  {
   "cell_type": "code",
   "execution_count": 36,
   "id": "129f0670",
   "metadata": {},
   "outputs": [],
   "source": [
    "import pandas as pd\n",
    "import numpy as np\n",
    "import random\n",
    "import matplotlib.pyplot as plt"
   ]
  },
  {
   "cell_type": "code",
   "execution_count": 15,
   "id": "a0743efc-a785-4b5c-a9e6-b65d4507a67f",
   "metadata": {},
   "outputs": [],
   "source": [
    "\n",
    "\n",
    "class Die():\n",
    "    \"\"\"\n",
    "    Creating class die \n",
    "    \"\"\"\n",
    "    def __init__(self,faces):\n",
    "        \"\"\"\n",
    "        takes faces as arguement and creates public faces array,\n",
    "        it also makes sure the array is unique and creates and array of ones for the weight.\n",
    "        then it creates the die \n",
    "        \"\"\"\n",
    "        self.faces = np.unique(faces)\n",
    "        self.df_die = pd.DataFrame({'Faces':self.faces, 'weights':[1 for i in range(len(self.faces))]})\n",
    "\n",
    "    def change_the_weight(self, face, weight):\n",
    "        \"\"\"\n",
    "        changes the weight of the given face.\n",
    "        input:face, weight\n",
    "        action:change in df_die\n",
    "        \"\"\"\n",
    "        try:\n",
    "            float(weight)\n",
    "        except:\n",
    "            print('not numeric weight')\n",
    "            return\n",
    "        if face in self.df_die['Faces'].tolist():\n",
    "            #self.df_die[face] = weight\n",
    "            self.df_die['weights'][self.df_die.index[self.df_die['Faces'] == face]] = float(weight)\n",
    "\n",
    "    def roll(self, roll_times = 1):\n",
    "        \"\"\"\n",
    "        rolls the die roll_times \n",
    "        \"\"\"\n",
    "        return random.choices(self.df_die['Faces'], weights=self.df_die['weights'], k=roll_times)\n",
    "    def show(self):\n",
    "        return self.df_die\n",
    "\n",
    "        \n",
    "class Game():\n",
    "    \"\"\"\n",
    "    A class that we can play games in \n",
    "    \"\"\"\n",
    "    def __init__(self, Die_list):\n",
    "        \"\"\"\n",
    "        input:Die_list: a list of dies \n",
    "        takes a list of dies and initiates the game\n",
    "        \"\"\"\n",
    "        self.games = Die_list\n",
    "\n",
    "    def play(self, roll_times):\n",
    "        \"\"\"\n",
    "        input:roll_times \n",
    "        takes roll_times and rolls all the dice roll_times times.\n",
    "        \"\"\"\n",
    "        name = 1\n",
    "        self.__df = pd.DataFrame({1:self.games[0].roll(roll_times)})\n",
    "        for game in self.games[1:]:\n",
    "            name += 1\n",
    "            self.__df[name] = game.roll(roll_times)\n",
    "        return self. __df\n",
    "    def show(self,typa ='wide'):\n",
    "        \"\"\"\n",
    "        takes typa as arguement and returns private df as typa\n",
    "        \"\"\"\n",
    "\n",
    "        if typa == 'wide':\n",
    "            return self. __df\n",
    "        elif typa == 'narrow':\n",
    "            return pd.DataFrame(self.__df.unstack(level=-1))\n",
    "        else:\n",
    "            raise ValueError(\"worng type\")\n",
    " \n",
    "\n",
    "class Analyzer():\n",
    "    \"\"\"\n",
    "    Takes game as arguament an does some analysis on the game\n",
    "    \"\"\"\n",
    "    \n",
    "    def __init__(self, game):\n",
    "        \"\"\"\n",
    "        takes game as argument and initilizes it\n",
    "        also initializes the needed dataframes\n",
    "        \"\"\"\n",
    "\n",
    "        self.game = game\n",
    "        self.df_narrow = self.game.show('narrow')\n",
    "        self.df_wide = self.game.show()\n",
    "        self.df_face_counts_per_roll = None\n",
    "        self.unique_df = None\n",
    "        self.combo_df = None\n",
    "\n",
    "    def face_counts_per_roll(self):\n",
    "        \"\"\"\n",
    "        method to compute how many times a given face is rolled in each event.\n",
    "        \"\"\"\n",
    "        self.df_face_counts_per_roll = self.df_wide.apply(pd.Series.value_counts,axis = 1).fillna(0)\n",
    "\n",
    "    def jackpot(self):\n",
    "        \"\"\"\n",
    "        a method to count how many times a roll resulted in all faces being the same\n",
    "        \"\"\"\n",
    "\n",
    "        self.unique_df = self.df_wide[self.df_wide.nunique(1) == 1]\n",
    "        return (self.df_wide.nunique(1) == 1).sum()\n",
    "\n",
    "    def combo(self):\n",
    "        \"\"\"\n",
    "        method to compute the distinct combinations of faces rolled, along with their counts\n",
    "        \"\"\"\n",
    "\n",
    "        self.combo_df = self.df_wide.value_counts()\n",
    "\n"
   ]
  },
  {
   "cell_type": "markdown",
   "id": "4c81c4f0-b6ff-46ab-ba2c-9de7f0179715",
   "metadata": {},
   "source": [
    "# Test Module"
   ]
  },
  {
   "cell_type": "code",
   "execution_count": 73,
   "id": "14b878d8-258b-4cf2-ad88-b8ee90d43977",
   "metadata": {},
   "outputs": [],
   "source": [
    "import unittest\n",
    "from montecarlo import Die, Game, Analyzer\n",
    "\n",
    "class test_die(unittest.TestCase):\n",
    "\n",
    "\n",
    "    def test_die1(self):\n",
    "        new = Die([1,2,3,4,5])\n",
    "        new.change_the_weight(3, .4)\n",
    "        self.assertEqual(float(new.show()[new.show().Faces == 3]['weights']), .4)\n",
    "        #assertEqual(1,1)\n",
    "\n",
    "    def test_die2(self):\n",
    "        new = Die([1,2,3,4,5, 1,2,3,4,5])\n",
    "        new.change_the_weight(3, .4)\n",
    "        new.change_the_weight(5, .1)\n",
    "        self.assertEqual(float(new.show()[new.show().Faces == 5]['weights']), .1)\n",
    "        #assertEqual(1,1)\n",
    "\n",
    "    def test_die3(self):\n",
    "        coin_fair = Die(['H', 'T']) #fair coin\n",
    "        coin_unfair1 = Die(['H', 'T']) #unfair coin\n",
    "        coin_unfair1.change_the_weight('H', 5)\n",
    "        self.assertEqual(float(coin_unfair1.show()[coin_unfair1.show().Faces == 'H']['weights']), 5)\n",
    "        coin_unfair1.roll(5)\n",
    "        self.assertEqual(len(coin_unfair1.df_die), 2)\n",
    "        #assertEqual(1,1)\n",
    "        #assertEqual(1,1)\n",
    "    def test_die3(self):\n",
    "        coin_fair = Die(['H', 'T']) #fair coin\n",
    "        coin_fair.roll(5)\n",
    "        self.assertEqual(len(coin_fair.roll(5)), 5)\n",
    "        #assertEqual(1,1)\n",
    "        #assertEqual(1,1)\n",
    "\n",
    "class test_Game(unittest.TestCase):\n",
    "\n",
    "\n",
    "    def test_game1(self):\n",
    "        coin_fair = Die(['H', 'T']) #fair coin\n",
    "        game1 = Game([coin_fair, coin_fair, coin_fair]) #creating a fair game variable\n",
    "        self.assertEqual(len(game1.play(1000)),1000)\n",
    "\n",
    "    def test_game2(self):\n",
    "        coin_fair = Die(['H', 'T']) #fair coin\n",
    "        game1 = Game([coin_fair, coin_fair, coin_fair]) #creating a fair game variable\n",
    "        game1.play(1000) # playing the game 1000 times\n",
    "        self.assertEqual(len(game1.show()),1000)\n",
    "\n",
    "    def test_game3(self):\n",
    "        coin_fair = Die(['H', 'T']) #fair coin\n",
    "        coin_unfair1 = Die(['H', 'T']) #unfair coin\n",
    "        coin_unfair1.change_the_weight('H', 5) # changing the weight\n",
    "        game2 = Game([coin_unfair1, coin_unfair1, coin_fair])#creating a unfair game variable\n",
    "        game2.play(1000)\n",
    "        self.assertEqual(game2.show('narrow').shape,(3000, 1))\n",
    "        #assertEqual(1,1)\n",
    "\n",
    "class test_Analyzer(unittest.TestCase):\n",
    "\n",
    "    def test_analyzer1(self):\n",
    "\n",
    "        die_fair = Die([1,2,3,4,5,6])\n",
    "        die_unfair1 = Die([1,2,3,4,5,6])\n",
    "        die_unfair1.change_the_weight(6, 5)\n",
    "        die_unfair2 = Die([1,2,3,4,5,6])\n",
    "        die_unfair1.change_the_weight(1, 5)\n",
    "        game2 = Game([die_unfair1, die_unfair1, die_unfair2, die_fair])\n",
    "        play2 = game2.play(10000)\n",
    "\n",
    "        analyzer2 = Analyzer(game2)\n",
    "\n",
    "        analyzer2.combo()\n",
    "\n",
    "        self.assertEqual(len(analyzer2.combo_df.index.names), 4)\n",
    "\n",
    "    def test_analyzer2(self):\n",
    "\n",
    "        die_fair = Die([1,2,3,4,5,6])\n",
    "\n",
    "        game1 = Game([die_fair, die_fair, die_fair, die_fair, die_fair])\n",
    "        play1 = game1.play(10000)\n",
    "\n",
    "        analyzer1 = Analyzer(game1)\n",
    "\n",
    "        analyzer1.face_counts_per_roll()\n",
    "        self.assertEqual(analyzer1.df_face_counts_per_roll.shape, (10000, 6))\n",
    "\n",
    "    def test_analyzer3(self):\n",
    "\n",
    "        die_fair = Die([1,2,3,4,5,6])\n",
    "\n",
    "        game1 = Game([die_fair, die_fair, die_fair, die_fair, die_fair])\n",
    "        play1 = game1.play(10000)\n",
    "\n",
    "        analyzer1 = Analyzer(game1)\n",
    "        analyzer1.jackpot()\n",
    "\n",
    "        self.assertEqual(len(analyzer1.unique_df.columns), 5)\n",
    "\n"
   ]
  },
  {
   "cell_type": "code",
   "execution_count": null,
   "id": "ea6aedee",
   "metadata": {
    "scrolled": true
   },
   "outputs": [],
   "source": []
  },
  {
   "cell_type": "code",
   "execution_count": null,
   "id": "a8dd5bed",
   "metadata": {},
   "outputs": [],
   "source": []
  },
  {
   "cell_type": "markdown",
   "id": "3c2b90b6-ac8b-43fa-a069-cb5b0b22aee0",
   "metadata": {},
   "source": [
    "# Test Results"
   ]
  },
  {
   "cell_type": "markdown",
   "id": "f0541110",
   "metadata": {},
   "source": [
    "Ran 9 tests in 3.702s\n",
    "\n",
    "OK\n"
   ]
  },
  {
   "cell_type": "markdown",
   "id": "7c44695d-d1b3-4edf-9f94-e64d7446f199",
   "metadata": {},
   "source": [
    "# Scenarios\n"
   ]
  },
  {
   "cell_type": "markdown",
   "id": "6c8077b6",
   "metadata": {},
   "source": [
    "# Scenario 1\n",
    "Creating one fair coin (with faces H and T) and one unfair coin. \n",
    "The unfair coin has one face with a weight of 5 and the others 1."
   ]
  },
  {
   "cell_type": "code",
   "execution_count": 16,
   "id": "b97ce860",
   "metadata": {},
   "outputs": [
    {
     "name": "stderr",
     "output_type": "stream",
     "text": [
      "/var/folders/c3/jct_vr856m7070yzm_vg2gvm0000gn/T/ipykernel_89440/893279945.py:31: SettingWithCopyWarning: \n",
      "A value is trying to be set on a copy of a slice from a DataFrame\n",
      "\n",
      "See the caveats in the documentation: https://pandas.pydata.org/pandas-docs/stable/user_guide/indexing.html#returning-a-view-versus-a-copy\n",
      "  self.df_die['weights'][self.df_die.index[self.df_die['Faces'] == face]] = float(weight)\n"
     ]
    }
   ],
   "source": [
    "coin_fair = Die(['H', 'T']) #fair coin\n",
    "coin_unfair1 = Die(['H', 'T']) #unfair coin\n",
    "coin_unfair1.change_the_weight('H', 5) # changing the weight\n"
   ]
  },
  {
   "cell_type": "code",
   "execution_count": 17,
   "id": "05504c88",
   "metadata": {},
   "outputs": [
    {
     "data": {
      "text/html": [
       "<div>\n",
       "<style scoped>\n",
       "    .dataframe tbody tr th:only-of-type {\n",
       "        vertical-align: middle;\n",
       "    }\n",
       "\n",
       "    .dataframe tbody tr th {\n",
       "        vertical-align: top;\n",
       "    }\n",
       "\n",
       "    .dataframe thead th {\n",
       "        text-align: right;\n",
       "    }\n",
       "</style>\n",
       "<table border=\"1\" class=\"dataframe\">\n",
       "  <thead>\n",
       "    <tr style=\"text-align: right;\">\n",
       "      <th></th>\n",
       "      <th>1</th>\n",
       "      <th>2</th>\n",
       "      <th>3</th>\n",
       "    </tr>\n",
       "  </thead>\n",
       "  <tbody>\n",
       "    <tr>\n",
       "      <th>0</th>\n",
       "      <td>T</td>\n",
       "      <td>H</td>\n",
       "      <td>H</td>\n",
       "    </tr>\n",
       "    <tr>\n",
       "      <th>1</th>\n",
       "      <td>H</td>\n",
       "      <td>T</td>\n",
       "      <td>T</td>\n",
       "    </tr>\n",
       "    <tr>\n",
       "      <th>2</th>\n",
       "      <td>H</td>\n",
       "      <td>H</td>\n",
       "      <td>H</td>\n",
       "    </tr>\n",
       "    <tr>\n",
       "      <th>3</th>\n",
       "      <td>H</td>\n",
       "      <td>T</td>\n",
       "      <td>H</td>\n",
       "    </tr>\n",
       "    <tr>\n",
       "      <th>4</th>\n",
       "      <td>H</td>\n",
       "      <td>H</td>\n",
       "      <td>H</td>\n",
       "    </tr>\n",
       "    <tr>\n",
       "      <th>...</th>\n",
       "      <td>...</td>\n",
       "      <td>...</td>\n",
       "      <td>...</td>\n",
       "    </tr>\n",
       "    <tr>\n",
       "      <th>995</th>\n",
       "      <td>H</td>\n",
       "      <td>H</td>\n",
       "      <td>H</td>\n",
       "    </tr>\n",
       "    <tr>\n",
       "      <th>996</th>\n",
       "      <td>H</td>\n",
       "      <td>H</td>\n",
       "      <td>H</td>\n",
       "    </tr>\n",
       "    <tr>\n",
       "      <th>997</th>\n",
       "      <td>H</td>\n",
       "      <td>H</td>\n",
       "      <td>T</td>\n",
       "    </tr>\n",
       "    <tr>\n",
       "      <th>998</th>\n",
       "      <td>H</td>\n",
       "      <td>H</td>\n",
       "      <td>T</td>\n",
       "    </tr>\n",
       "    <tr>\n",
       "      <th>999</th>\n",
       "      <td>H</td>\n",
       "      <td>H</td>\n",
       "      <td>H</td>\n",
       "    </tr>\n",
       "  </tbody>\n",
       "</table>\n",
       "<p>1000 rows × 3 columns</p>\n",
       "</div>"
      ],
      "text/plain": [
       "     1  2  3\n",
       "0    T  H  H\n",
       "1    H  T  T\n",
       "2    H  H  H\n",
       "3    H  T  H\n",
       "4    H  H  H\n",
       "..  .. .. ..\n",
       "995  H  H  H\n",
       "996  H  H  H\n",
       "997  H  H  T\n",
       "998  H  H  T\n",
       "999  H  H  H\n",
       "\n",
       "[1000 rows x 3 columns]"
      ]
     },
     "execution_count": 17,
     "metadata": {},
     "output_type": "execute_result"
    }
   ],
   "source": [
    "game1 = Game([coin_fair, coin_fair, coin_fair]) #creating a fair game variable \n",
    "game2 = Game([coin_unfair1, coin_unfair1, coin_fair])#creating a unfair game variable \n",
    "game1.play(1000) # playing the game 1000 times \n",
    "game2.play(1000)# playing the game 1000 times "
   ]
  },
  {
   "cell_type": "code",
   "execution_count": null,
   "id": "619cd547",
   "metadata": {},
   "outputs": [],
   "source": []
  },
  {
   "cell_type": "markdown",
   "id": "715c4baf",
   "metadata": {},
   "source": [
    "## creating analyzer variable "
   ]
  },
  {
   "cell_type": "code",
   "execution_count": 29,
   "id": "d293600a",
   "metadata": {},
   "outputs": [],
   "source": [
    "analyzer1 = Analyzer(game1) \n",
    "analyzer2 = Analyzer(game2)"
   ]
  },
  {
   "cell_type": "code",
   "execution_count": 30,
   "id": "0efa1cfa",
   "metadata": {},
   "outputs": [
    {
     "name": "stdout",
     "output_type": "stream",
     "text": [
      "game 1 with all the fair coins has 245 out of 1000 jackpots\n"
     ]
    }
   ],
   "source": [
    "print('game 1 with all the fair coins has {} out of 1000 jackpots'.format(analyzer1.jackpot()))"
   ]
  },
  {
   "cell_type": "code",
   "execution_count": 37,
   "id": "697b15e9",
   "metadata": {},
   "outputs": [
    {
     "name": "stdout",
     "output_type": "stream",
     "text": [
      "game 2 with two unfair coins has 346 out of 1000 jackpots\n"
     ]
    }
   ],
   "source": [
    "print('game 2 with two unfair coins has {} out of 1000 jackpots'.format(analyzer2.jackpot()))"
   ]
  },
  {
   "cell_type": "code",
   "execution_count": 38,
   "id": "bb59797a",
   "metadata": {},
   "outputs": [],
   "source": [
    "unique1 = analyzer1.unique_df\n",
    "unique2 = analyzer2.unique_df"
   ]
  },
  {
   "cell_type": "code",
   "execution_count": 39,
   "id": "e336c02a",
   "metadata": {},
   "outputs": [
    {
     "name": "stdout",
     "output_type": "stream",
     "text": [
      "game 1 with all the fair coins has 109 heads and 136 tail jackpots\n"
     ]
    }
   ],
   "source": [
    "print('game 1 with all the fair coins has {} heads and {} tail jackpots'.format((unique1[1] == 'H').sum(),  (unique1[1] == 'T').sum()))"
   ]
  },
  {
   "cell_type": "code",
   "execution_count": 40,
   "id": "46e5d1e1",
   "metadata": {},
   "outputs": [
    {
     "name": "stdout",
     "output_type": "stream",
     "text": [
      "game 2 with two unfair coins has 333 heads and 13 tail jackpots\n"
     ]
    }
   ],
   "source": [
    "print('game 2 with two unfair coins has {} heads and {} tail jackpots'.format((unique2[1] == 'H').sum(),  (unique2[1] == 'T').sum()))"
   ]
  },
  {
   "cell_type": "code",
   "execution_count": 41,
   "id": "a5049c5a",
   "metadata": {},
   "outputs": [
    {
     "data": {
      "image/png": "[encoded data removed]",
      "text/plain": [
       "<Figure size 720x504 with 1 Axes>"
      ]
     },
     "metadata": {
      "needs_background": "light"
     },
     "output_type": "display_data"
    }
   ],
   "source": [
    "fig = plt.figure(figsize =(10, 7))\n",
    "plt.bar(['unfair game head jackpot', 'unfair game tail jackpot', 'fair game head jackpot', 'fair game tail jackpot'],\n",
    "        [(unique2[1] == 'H').sum(), (unique2[1] == 'T').sum(), (unique1[1] == 'H').sum(),  (unique1[1] == 'T').sum()])\n",
    "plt.show()"
   ]
  },
  {
   "cell_type": "markdown",
   "id": "ffa4e22e",
   "metadata": {},
   "source": [
    "the unfair game is more bias towards head and the fair game is fair"
   ]
  },
  {
   "cell_type": "markdown",
   "id": "06f5b2ae",
   "metadata": {},
   "source": [
    "# Scenario 2\n",
    "Creating a fair die and two unfair dice\n",
    "\n",
    "all of six sides with the faces 1 through 6.\n",
    "\n",
    "(Type 1) unfair die will weight 6 five times more than the others \n",
    "\n",
    "(Type 2) unfair die will weight 1 five times more than the others."
   ]
  },
  {
   "cell_type": "code",
   "execution_count": 42,
   "id": "4ca65bd2",
   "metadata": {},
   "outputs": [],
   "source": [
    "die_fair = Die([1,2,3,4,5,6])\n",
    "die_unfair1 = Die([1,2,3,4,5,6])\n",
    "die_unfair1.change_the_weight(6, 5)\n",
    "die_unfair2 = Die([1,2,3,4,5,6])\n",
    "die_unfair1.change_the_weight(1, 5)"
   ]
  },
  {
   "cell_type": "code",
   "execution_count": 43,
   "id": "d1f98630",
   "metadata": {},
   "outputs": [],
   "source": [
    "game1 = Game([die_fair, die_fair, die_fair, die_fair, die_fair])\n",
    "play1 = game1.play(10000)\n",
    "game2 = Game([die_unfair1, die_unfair1, die_unfair2, die_fair])\n",
    "play2 = game2.play(10000)\n",
    "\n",
    "analyzer1 = Analyzer(game1)\n",
    "analyzer2 = Analyzer(game2)\n",
    "\n",
    "\n"
   ]
  },
  {
   "cell_type": "code",
   "execution_count": 71,
   "id": "4a70a992",
   "metadata": {},
   "outputs": [
    {
     "data": {
      "text/plain": [
       "5"
      ]
     },
     "execution_count": 71,
     "metadata": {},
     "output_type": "execute_result"
    }
   ],
   "source": [
    "analyzer1.face_counts_per_roll()\n",
    "analyzer1.unique_df"
   ]
  },
  {
   "cell_type": "code",
   "execution_count": 48,
   "id": "085aa4e0",
   "metadata": {},
   "outputs": [
    {
     "data": {
      "image/png": "[encoded data removed]",
      "text/plain": [
       "<Figure size 720x504 with 1 Axes>"
      ]
     },
     "metadata": {
      "needs_background": "light"
     },
     "output_type": "display_data"
    }
   ],
   "source": [
    "\n",
    "fig = plt.figure(figsize =(10, 7))\n",
    "plt.bar(['fair game jackpots', 'unfair game jackpots'],\n",
    "        [analyzer1.jackpot(), analyzer2.jackpot()])\n",
    "plt.show()"
   ]
  },
  {
   "cell_type": "markdown",
   "id": "bd0ebd6b",
   "metadata": {},
   "source": [
    "the unfair game had alot more jackpots than the fair game "
   ]
  },
  {
   "cell_type": "code",
   "execution_count": 49,
   "id": "d1dff452",
   "metadata": {},
   "outputs": [
    {
     "data": {
      "image/png": "[encoded data removed]",
      "text/plain": [
       "<Figure size 432x288 with 1 Axes>"
      ]
     },
     "metadata": {
      "needs_background": "light"
     },
     "output_type": "display_data"
    }
   ],
   "source": [
    "\n",
    "analyzer1.combo()\n",
    "analyzer2.combo()\n",
    "analyzer1.combo_df[:10].plot.bar()\n",
    "plt.show()"
   ]
  },
  {
   "cell_type": "code",
   "execution_count": 50,
   "id": "849693a3",
   "metadata": {},
   "outputs": [
    {
     "data": {
      "image/png": "[encoded data removed]",
      "text/plain": [
       "<Figure size 432x288 with 1 Axes>"
      ]
     },
     "metadata": {
      "needs_background": "light"
     },
     "output_type": "display_data"
    }
   ],
   "source": [
    "analyzer2.combo_df[:10].plot.bar()\n",
    "plt.show()"
   ]
  },
  {
   "cell_type": "markdown",
   "id": "cd829f05",
   "metadata": {},
   "source": [
    "the unfair game had alot more common combinations than the fair game "
   ]
  },
  {
   "cell_type": "markdown",
   "id": "4cbf8409",
   "metadata": {},
   "source": []
  },
  {
   "cell_type": "markdown",
   "id": "2a52bb3b",
   "metadata": {},
   "source": [
    "# Scenario 3\n",
    "Creating a die of letters from a to z with weights based on their frequency on the  Appendix."
   ]
  },
  {
   "cell_type": "code",
   "execution_count": 51,
   "id": "6f9b433e",
   "metadata": {},
   "outputs": [],
   "source": [
    "#from the Appendix\n",
    "Appendix = '''A,8.4966\n",
    "B,2.0720\n",
    "C,4.5388\n",
    "D,3.3844\n",
    "E,11.1607\n",
    "F,1.8121\n",
    "G,2.4705\n",
    "H,3.0034\n",
    "I,7.5448\n",
    "J,0.1965\n",
    "K,1.1016\n",
    "L,5.4893\n",
    "M,3.0129\n",
    "N,6.6544\n",
    "O,7.1635\n",
    "P,3.1671\n",
    "Q,0.1962\n",
    "R,7.5809\n",
    "S,5.7351\n",
    "T,6.9509\n",
    "U,3.6308\n",
    "V,1.0074\n",
    "W,1.2899\n",
    "X,0.2902\n",
    "Y,1.7779\n",
    "Z,0.2722'''\n",
    "\n",
    "def apendix_todf(df):\n",
    "    a  = df.split(',')[0]\n",
    "    b = df.split(',')[1]\n",
    "    return pd.Series([a,b])\n",
    "apendix_df = pd.Series(Appendix.split('\\n')).apply(apendix_todf) # trying to turn the apendix into dataframe"
   ]
  },
  {
   "cell_type": "code",
   "execution_count": 52,
   "id": "5fcb750d",
   "metadata": {},
   "outputs": [],
   "source": [
    "alphabet_die = Die(apendix_df[0]) # creating a die "
   ]
  },
  {
   "cell_type": "markdown",
   "id": "6e6af695",
   "metadata": {},
   "source": [
    "chaning the weights "
   ]
  },
  {
   "cell_type": "code",
   "execution_count": 53,
   "id": "8ebb6b06",
   "metadata": {},
   "outputs": [
    {
     "data": {
      "text/html": [
       "<div>\n",
       "<style scoped>\n",
       "    .dataframe tbody tr th:only-of-type {\n",
       "        vertical-align: middle;\n",
       "    }\n",
       "\n",
       "    .dataframe tbody tr th {\n",
       "        vertical-align: top;\n",
       "    }\n",
       "\n",
       "    .dataframe thead th {\n",
       "        text-align: right;\n",
       "    }\n",
       "</style>\n",
       "<table border=\"1\" class=\"dataframe\">\n",
       "  <thead>\n",
       "    <tr style=\"text-align: right;\">\n",
       "      <th></th>\n",
       "      <th>Faces</th>\n",
       "      <th>weights</th>\n",
       "    </tr>\n",
       "  </thead>\n",
       "  <tbody>\n",
       "    <tr>\n",
       "      <th>0</th>\n",
       "      <td>A</td>\n",
       "      <td>8.4966</td>\n",
       "    </tr>\n",
       "    <tr>\n",
       "      <th>1</th>\n",
       "      <td>B</td>\n",
       "      <td>2.0720</td>\n",
       "    </tr>\n",
       "    <tr>\n",
       "      <th>2</th>\n",
       "      <td>C</td>\n",
       "      <td>4.5388</td>\n",
       "    </tr>\n",
       "    <tr>\n",
       "      <th>3</th>\n",
       "      <td>D</td>\n",
       "      <td>3.3844</td>\n",
       "    </tr>\n",
       "    <tr>\n",
       "      <th>4</th>\n",
       "      <td>E</td>\n",
       "      <td>11.1607</td>\n",
       "    </tr>\n",
       "    <tr>\n",
       "      <th>5</th>\n",
       "      <td>F</td>\n",
       "      <td>1.8121</td>\n",
       "    </tr>\n",
       "    <tr>\n",
       "      <th>6</th>\n",
       "      <td>G</td>\n",
       "      <td>2.4705</td>\n",
       "    </tr>\n",
       "    <tr>\n",
       "      <th>7</th>\n",
       "      <td>H</td>\n",
       "      <td>3.0034</td>\n",
       "    </tr>\n",
       "    <tr>\n",
       "      <th>8</th>\n",
       "      <td>I</td>\n",
       "      <td>7.5448</td>\n",
       "    </tr>\n",
       "    <tr>\n",
       "      <th>9</th>\n",
       "      <td>J</td>\n",
       "      <td>0.1965</td>\n",
       "    </tr>\n",
       "    <tr>\n",
       "      <th>10</th>\n",
       "      <td>K</td>\n",
       "      <td>1.1016</td>\n",
       "    </tr>\n",
       "    <tr>\n",
       "      <th>11</th>\n",
       "      <td>L</td>\n",
       "      <td>5.4893</td>\n",
       "    </tr>\n",
       "    <tr>\n",
       "      <th>12</th>\n",
       "      <td>M</td>\n",
       "      <td>3.0129</td>\n",
       "    </tr>\n",
       "    <tr>\n",
       "      <th>13</th>\n",
       "      <td>N</td>\n",
       "      <td>6.6544</td>\n",
       "    </tr>\n",
       "    <tr>\n",
       "      <th>14</th>\n",
       "      <td>O</td>\n",
       "      <td>7.1635</td>\n",
       "    </tr>\n",
       "    <tr>\n",
       "      <th>15</th>\n",
       "      <td>P</td>\n",
       "      <td>3.1671</td>\n",
       "    </tr>\n",
       "    <tr>\n",
       "      <th>16</th>\n",
       "      <td>Q</td>\n",
       "      <td>0.1962</td>\n",
       "    </tr>\n",
       "    <tr>\n",
       "      <th>17</th>\n",
       "      <td>R</td>\n",
       "      <td>7.5809</td>\n",
       "    </tr>\n",
       "    <tr>\n",
       "      <th>18</th>\n",
       "      <td>S</td>\n",
       "      <td>5.7351</td>\n",
       "    </tr>\n",
       "    <tr>\n",
       "      <th>19</th>\n",
       "      <td>T</td>\n",
       "      <td>6.9509</td>\n",
       "    </tr>\n",
       "    <tr>\n",
       "      <th>20</th>\n",
       "      <td>U</td>\n",
       "      <td>3.6308</td>\n",
       "    </tr>\n",
       "    <tr>\n",
       "      <th>21</th>\n",
       "      <td>V</td>\n",
       "      <td>1.0074</td>\n",
       "    </tr>\n",
       "    <tr>\n",
       "      <th>22</th>\n",
       "      <td>W</td>\n",
       "      <td>1.2899</td>\n",
       "    </tr>\n",
       "    <tr>\n",
       "      <th>23</th>\n",
       "      <td>X</td>\n",
       "      <td>0.2902</td>\n",
       "    </tr>\n",
       "    <tr>\n",
       "      <th>24</th>\n",
       "      <td>Y</td>\n",
       "      <td>1.7779</td>\n",
       "    </tr>\n",
       "    <tr>\n",
       "      <th>25</th>\n",
       "      <td>Z</td>\n",
       "      <td>0.2722</td>\n",
       "    </tr>\n",
       "  </tbody>\n",
       "</table>\n",
       "</div>"
      ],
      "text/plain": [
       "   Faces  weights\n",
       "0      A   8.4966\n",
       "1      B   2.0720\n",
       "2      C   4.5388\n",
       "3      D   3.3844\n",
       "4      E  11.1607\n",
       "5      F   1.8121\n",
       "6      G   2.4705\n",
       "7      H   3.0034\n",
       "8      I   7.5448\n",
       "9      J   0.1965\n",
       "10     K   1.1016\n",
       "11     L   5.4893\n",
       "12     M   3.0129\n",
       "13     N   6.6544\n",
       "14     O   7.1635\n",
       "15     P   3.1671\n",
       "16     Q   0.1962\n",
       "17     R   7.5809\n",
       "18     S   5.7351\n",
       "19     T   6.9509\n",
       "20     U   3.6308\n",
       "21     V   1.0074\n",
       "22     W   1.2899\n",
       "23     X   0.2902\n",
       "24     Y   1.7779\n",
       "25     Z   0.2722"
      ]
     },
     "execution_count": 53,
     "metadata": {},
     "output_type": "execute_result"
    }
   ],
   "source": [
    "apendix_df.apply(lambda x: alphabet_die.change_the_weight(x[0], x[1]), axis=1) #chaning the weights \n",
    "alphabet_die.show()"
   ]
  },
  {
   "cell_type": "markdown",
   "id": "c19fb5b8",
   "metadata": {},
   "source": [
    "creating a game "
   ]
  },
  {
   "cell_type": "code",
   "execution_count": 54,
   "id": "e87ffbc3",
   "metadata": {},
   "outputs": [
    {
     "data": {
      "text/html": [
       "<div>\n",
       "<style scoped>\n",
       "    .dataframe tbody tr th:only-of-type {\n",
       "        vertical-align: middle;\n",
       "    }\n",
       "\n",
       "    .dataframe tbody tr th {\n",
       "        vertical-align: top;\n",
       "    }\n",
       "\n",
       "    .dataframe thead th {\n",
       "        text-align: right;\n",
       "    }\n",
       "</style>\n",
       "<table border=\"1\" class=\"dataframe\">\n",
       "  <thead>\n",
       "    <tr style=\"text-align: right;\">\n",
       "      <th></th>\n",
       "      <th>1</th>\n",
       "      <th>2</th>\n",
       "      <th>3</th>\n",
       "      <th>4</th>\n",
       "      <th>5</th>\n",
       "    </tr>\n",
       "  </thead>\n",
       "  <tbody>\n",
       "    <tr>\n",
       "      <th>0</th>\n",
       "      <td>S</td>\n",
       "      <td>N</td>\n",
       "      <td>V</td>\n",
       "      <td>C</td>\n",
       "      <td>I</td>\n",
       "    </tr>\n",
       "    <tr>\n",
       "      <th>1</th>\n",
       "      <td>R</td>\n",
       "      <td>R</td>\n",
       "      <td>U</td>\n",
       "      <td>T</td>\n",
       "      <td>B</td>\n",
       "    </tr>\n",
       "    <tr>\n",
       "      <th>2</th>\n",
       "      <td>L</td>\n",
       "      <td>E</td>\n",
       "      <td>I</td>\n",
       "      <td>I</td>\n",
       "      <td>N</td>\n",
       "    </tr>\n",
       "    <tr>\n",
       "      <th>3</th>\n",
       "      <td>Y</td>\n",
       "      <td>T</td>\n",
       "      <td>R</td>\n",
       "      <td>N</td>\n",
       "      <td>T</td>\n",
       "    </tr>\n",
       "    <tr>\n",
       "      <th>4</th>\n",
       "      <td>E</td>\n",
       "      <td>C</td>\n",
       "      <td>C</td>\n",
       "      <td>E</td>\n",
       "      <td>R</td>\n",
       "    </tr>\n",
       "    <tr>\n",
       "      <th>...</th>\n",
       "      <td>...</td>\n",
       "      <td>...</td>\n",
       "      <td>...</td>\n",
       "      <td>...</td>\n",
       "      <td>...</td>\n",
       "    </tr>\n",
       "    <tr>\n",
       "      <th>995</th>\n",
       "      <td>A</td>\n",
       "      <td>O</td>\n",
       "      <td>R</td>\n",
       "      <td>N</td>\n",
       "      <td>E</td>\n",
       "    </tr>\n",
       "    <tr>\n",
       "      <th>996</th>\n",
       "      <td>N</td>\n",
       "      <td>D</td>\n",
       "      <td>S</td>\n",
       "      <td>F</td>\n",
       "      <td>T</td>\n",
       "    </tr>\n",
       "    <tr>\n",
       "      <th>997</th>\n",
       "      <td>N</td>\n",
       "      <td>P</td>\n",
       "      <td>B</td>\n",
       "      <td>O</td>\n",
       "      <td>H</td>\n",
       "    </tr>\n",
       "    <tr>\n",
       "      <th>998</th>\n",
       "      <td>R</td>\n",
       "      <td>I</td>\n",
       "      <td>R</td>\n",
       "      <td>N</td>\n",
       "      <td>O</td>\n",
       "    </tr>\n",
       "    <tr>\n",
       "      <th>999</th>\n",
       "      <td>U</td>\n",
       "      <td>E</td>\n",
       "      <td>L</td>\n",
       "      <td>F</td>\n",
       "      <td>R</td>\n",
       "    </tr>\n",
       "  </tbody>\n",
       "</table>\n",
       "<p>1000 rows × 5 columns</p>\n",
       "</div>"
      ],
      "text/plain": [
       "     1  2  3  4  5\n",
       "0    S  N  V  C  I\n",
       "1    R  R  U  T  B\n",
       "2    L  E  I  I  N\n",
       "3    Y  T  R  N  T\n",
       "4    E  C  C  E  R\n",
       "..  .. .. .. .. ..\n",
       "995  A  O  R  N  E\n",
       "996  N  D  S  F  T\n",
       "997  N  P  B  O  H\n",
       "998  R  I  R  N  O\n",
       "999  U  E  L  F  R\n",
       "\n",
       "[1000 rows x 5 columns]"
      ]
     },
     "execution_count": 54,
     "metadata": {},
     "output_type": "execute_result"
    }
   ],
   "source": [
    "game_alphabet = Game([alphabet_die, alphabet_die, alphabet_die, alphabet_die, alphabet_die]) \n",
    "game_alphabet.play(1000)"
   ]
  },
  {
   "cell_type": "markdown",
   "id": "86702a80",
   "metadata": {},
   "source": [
    "running a sample "
   ]
  },
  {
   "cell_type": "code",
   "execution_count": 55,
   "id": "fa925d46",
   "metadata": {},
   "outputs": [
    {
     "data": {
      "text/html": [
       "<div>\n",
       "<style scoped>\n",
       "    .dataframe tbody tr th:only-of-type {\n",
       "        vertical-align: middle;\n",
       "    }\n",
       "\n",
       "    .dataframe tbody tr th {\n",
       "        vertical-align: top;\n",
       "    }\n",
       "\n",
       "    .dataframe thead th {\n",
       "        text-align: right;\n",
       "    }\n",
       "</style>\n",
       "<table border=\"1\" class=\"dataframe\">\n",
       "  <thead>\n",
       "    <tr style=\"text-align: right;\">\n",
       "      <th></th>\n",
       "      <th>1</th>\n",
       "      <th>2</th>\n",
       "      <th>3</th>\n",
       "      <th>4</th>\n",
       "      <th>5</th>\n",
       "    </tr>\n",
       "  </thead>\n",
       "  <tbody>\n",
       "    <tr>\n",
       "      <th>36</th>\n",
       "      <td>A</td>\n",
       "      <td>N</td>\n",
       "      <td>C</td>\n",
       "      <td>T</td>\n",
       "      <td>S</td>\n",
       "    </tr>\n",
       "    <tr>\n",
       "      <th>86</th>\n",
       "      <td>E</td>\n",
       "      <td>R</td>\n",
       "      <td>Q</td>\n",
       "      <td>W</td>\n",
       "      <td>E</td>\n",
       "    </tr>\n",
       "    <tr>\n",
       "      <th>91</th>\n",
       "      <td>L</td>\n",
       "      <td>E</td>\n",
       "      <td>H</td>\n",
       "      <td>G</td>\n",
       "      <td>R</td>\n",
       "    </tr>\n",
       "    <tr>\n",
       "      <th>926</th>\n",
       "      <td>A</td>\n",
       "      <td>A</td>\n",
       "      <td>C</td>\n",
       "      <td>O</td>\n",
       "      <td>U</td>\n",
       "    </tr>\n",
       "    <tr>\n",
       "      <th>561</th>\n",
       "      <td>N</td>\n",
       "      <td>T</td>\n",
       "      <td>H</td>\n",
       "      <td>N</td>\n",
       "      <td>O</td>\n",
       "    </tr>\n",
       "    <tr>\n",
       "      <th>284</th>\n",
       "      <td>A</td>\n",
       "      <td>M</td>\n",
       "      <td>S</td>\n",
       "      <td>C</td>\n",
       "      <td>M</td>\n",
       "    </tr>\n",
       "    <tr>\n",
       "      <th>227</th>\n",
       "      <td>O</td>\n",
       "      <td>M</td>\n",
       "      <td>N</td>\n",
       "      <td>T</td>\n",
       "      <td>M</td>\n",
       "    </tr>\n",
       "    <tr>\n",
       "      <th>339</th>\n",
       "      <td>U</td>\n",
       "      <td>R</td>\n",
       "      <td>R</td>\n",
       "      <td>D</td>\n",
       "      <td>M</td>\n",
       "    </tr>\n",
       "    <tr>\n",
       "      <th>351</th>\n",
       "      <td>T</td>\n",
       "      <td>G</td>\n",
       "      <td>V</td>\n",
       "      <td>S</td>\n",
       "      <td>C</td>\n",
       "    </tr>\n",
       "    <tr>\n",
       "      <th>406</th>\n",
       "      <td>I</td>\n",
       "      <td>L</td>\n",
       "      <td>R</td>\n",
       "      <td>O</td>\n",
       "      <td>N</td>\n",
       "    </tr>\n",
       "  </tbody>\n",
       "</table>\n",
       "</div>"
      ],
      "text/plain": [
       "     1  2  3  4  5\n",
       "36   A  N  C  T  S\n",
       "86   E  R  Q  W  E\n",
       "91   L  E  H  G  R\n",
       "926  A  A  C  O  U\n",
       "561  N  T  H  N  O\n",
       "284  A  M  S  C  M\n",
       "227  O  M  N  T  M\n",
       "339  U  R  R  D  M\n",
       "351  T  G  V  S  C\n",
       "406  I  L  R  O  N"
      ]
     },
     "execution_count": 55,
     "metadata": {},
     "output_type": "execute_result"
    }
   ],
   "source": [
    "game_alphabet.show().sample(10)"
   ]
  },
  {
   "cell_type": "markdown",
   "id": "291206c8",
   "metadata": {},
   "source": [
    "after running the sample 10 times (looking at 100 words) I found 8/100 words were english"
   ]
  },
  {
   "cell_type": "code",
   "execution_count": null,
   "id": "6e77a737",
   "metadata": {},
   "outputs": [],
   "source": []
  },
  {
   "cell_type": "code",
   "execution_count": null,
   "id": "0a9bab21",
   "metadata": {},
   "outputs": [],
   "source": []
  },
  {
   "cell_type": "markdown",
   "id": "6ced706c-19e7-4e79-b171-bfb076f822b4",
   "metadata": {},
   "source": [
    "# Directory Listing\n",
    "\n",
    "A code block that executes the following bash command: \n",
    "\n",
    "```bash\n",
    "!ls -lRF -o\n",
    "```"
   ]
  },
  {
   "cell_type": "code",
   "execution_count": 74,
   "id": "5dbd35c2-e479-4179-b792-997d4293ba96",
   "metadata": {},
   "outputs": [
    {
     "name": "stdout",
     "output_type": "stream",
     "text": [
      "total 296\r\n",
      "-rw-r--r--  1 arminforoughi    483 Dec  6 15:50 README.md\r\n",
      "drwxr-xr-x@ 4 arminforoughi    128 Dec  6 19:48 \u001b[34m__pycache__\u001b[m\u001b[m/\r\n",
      "-rw-r--r--  1 arminforoughi  72022 Dec  6 20:43 final-project-submission.ipynb\r\n",
      "-rw-r--r--  1 arminforoughi   1974 Dec  6 12:37 montecarlo.py\r\n",
      "-rw-r--r--  1 arminforoughi  63162 Dec  6 15:30 montecarlo_demo.ipynb\r\n",
      "-rw-r--r--@ 1 arminforoughi      0 Dec  6 20:44 montecarlo_test_results.txt\r\n",
      "-rw-r--r--@ 1 arminforoughi   3354 Dec  6 20:43 montecarlo_tests.py\r\n",
      "\r\n",
      "./__pycache__:\r\n",
      "total 16\r\n",
      "-rw-r--r--  1 arminforoughi  3067 Dec  6 19:14 montecarlo.cpython-39.pyc\r\n",
      "-rw-r--r--  1 arminforoughi  1930 Dec  6 19:48 montecarlo_tests.cpython-39.pyc\r\n"
     ]
    }
   ],
   "source": [
    "!ls -lRF -o"
   ]
  },
  {
   "cell_type": "markdown",
   "id": "c4df835c-3cd7-4c74-a4de-51638607680b",
   "metadata": {
    "tags": []
   },
   "source": [
    "# Installation Output Listing\n",
    "    \n",
    "A code block that executes the code to install your your package and outputs a successful installation."
   ]
  },
  {
   "cell_type": "code",
   "execution_count": 76,
   "id": "3609769a-c338-4746-8607-d124caf76ed8",
   "metadata": {},
   "outputs": [],
   "source": [
    "from montecarlo import Die, Game, Analyzer"
   ]
  },
  {
   "cell_type": "code",
   "execution_count": null,
   "id": "3f8d0ced-8841-4357-bda1-151880cf91a0",
   "metadata": {},
   "outputs": [],
   "source": []
  }
 ],
 "metadata": {
  "kernelspec": {
   "display_name": "Python 3 (ipykernel)",
   "language": "python",
   "name": "python3"
  },
  "language_info": {
   "codemirror_mode": {
    "name": "ipython",
    "version": 3
   },
   "file_extension": ".py",
   "mimetype": "text/x-python",
   "name": "python",
   "nbconvert_exporter": "python",
   "pygments_lexer": "ipython3",
   "version": "3.9.12"
  },
  "widgets": {
   "application/vnd.jupyter.widget-state+json": {
    "state": {},
    "version_major": 2,
    "version_minor": 0
   }
  }
 },
 "nbformat": 4,
 "nbformat_minor": 5
}
