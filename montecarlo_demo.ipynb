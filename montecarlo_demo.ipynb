{
 "cells": [
  {
   "cell_type": "code",
   "execution_count": 36,
   "id": "47e76aa7",
   "metadata": {},
   "outputs": [],
   "source": [
    "from montecarlo import Die, Game, Analyzer\n",
    "import pandas as pd \n",
    "import matplotlib.pyplot as plt"
   ]
  },
  {
   "cell_type": "markdown",
   "id": "af4eb27b",
   "metadata": {},
   "source": [
    "# montecarlo_demo\n",
    "in this demo I will show how to play the game of montecarlo from the libaray montecarlo"
   ]
  },
  {
   "cell_type": "code",
   "execution_count": null,
   "id": "d98742b2",
   "metadata": {},
   "outputs": [],
   "source": []
  },
  {
   "cell_type": "markdown",
   "id": "6cd38a87",
   "metadata": {},
   "source": [
    "# Scenario 1\n",
    "Creating one fair coin (with faces H and T) and one unfair coin. \n",
    "The unfair coin has one face with a weight of 5 and the others 1."
   ]
  },
  {
   "cell_type": "code",
   "execution_count": 48,
   "id": "2489bcba",
   "metadata": {},
   "outputs": [
    {
     "name": "stderr",
     "output_type": "stream",
     "text": [
      "/Users/arminforoughi/Documents/UVA/montecarlo.py:18: SettingWithCopyWarning: \n",
      "A value is trying to be set on a copy of a slice from a DataFrame\n",
      "\n",
      "See the caveats in the documentation: https://pandas.pydata.org/pandas-docs/stable/user_guide/indexing.html#returning-a-view-versus-a-copy\n",
      "  self.df_die['weights'][self.df_die.index[self.df_die['Faces'] == face]] = float(weight)\n"
     ]
    }
   ],
   "source": [
    "coin_fair = Die(['H', 'T']) #fair coin\n",
    "coin_unfair1 = Die(['H', 'T']) #unfair coin\n",
    "coin_unfair1.change_the_weight('H', 5) # changing the weight\n"
   ]
  },
  {
   "cell_type": "code",
   "execution_count": 16,
   "id": "6e6260a4",
   "metadata": {},
   "outputs": [
    {
     "data": {
      "text/html": [
       "<div>\n",
       "<style scoped>\n",
       "    .dataframe tbody tr th:only-of-type {\n",
       "        vertical-align: middle;\n",
       "    }\n",
       "\n",
       "    .dataframe tbody tr th {\n",
       "        vertical-align: top;\n",
       "    }\n",
       "\n",
       "    .dataframe thead th {\n",
       "        text-align: right;\n",
       "    }\n",
       "</style>\n",
       "<table border=\"1\" class=\"dataframe\">\n",
       "  <thead>\n",
       "    <tr style=\"text-align: right;\">\n",
       "      <th></th>\n",
       "      <th>1</th>\n",
       "      <th>2</th>\n",
       "      <th>3</th>\n",
       "    </tr>\n",
       "  </thead>\n",
       "  <tbody>\n",
       "    <tr>\n",
       "      <th>0</th>\n",
       "      <td>H</td>\n",
       "      <td>T</td>\n",
       "      <td>T</td>\n",
       "    </tr>\n",
       "    <tr>\n",
       "      <th>1</th>\n",
       "      <td>H</td>\n",
       "      <td>T</td>\n",
       "      <td>T</td>\n",
       "    </tr>\n",
       "    <tr>\n",
       "      <th>2</th>\n",
       "      <td>H</td>\n",
       "      <td>H</td>\n",
       "      <td>H</td>\n",
       "    </tr>\n",
       "    <tr>\n",
       "      <th>3</th>\n",
       "      <td>T</td>\n",
       "      <td>H</td>\n",
       "      <td>H</td>\n",
       "    </tr>\n",
       "    <tr>\n",
       "      <th>4</th>\n",
       "      <td>T</td>\n",
       "      <td>H</td>\n",
       "      <td>T</td>\n",
       "    </tr>\n",
       "    <tr>\n",
       "      <th>...</th>\n",
       "      <td>...</td>\n",
       "      <td>...</td>\n",
       "      <td>...</td>\n",
       "    </tr>\n",
       "    <tr>\n",
       "      <th>995</th>\n",
       "      <td>T</td>\n",
       "      <td>T</td>\n",
       "      <td>T</td>\n",
       "    </tr>\n",
       "    <tr>\n",
       "      <th>996</th>\n",
       "      <td>H</td>\n",
       "      <td>H</td>\n",
       "      <td>H</td>\n",
       "    </tr>\n",
       "    <tr>\n",
       "      <th>997</th>\n",
       "      <td>H</td>\n",
       "      <td>H</td>\n",
       "      <td>H</td>\n",
       "    </tr>\n",
       "    <tr>\n",
       "      <th>998</th>\n",
       "      <td>H</td>\n",
       "      <td>H</td>\n",
       "      <td>T</td>\n",
       "    </tr>\n",
       "    <tr>\n",
       "      <th>999</th>\n",
       "      <td>H</td>\n",
       "      <td>H</td>\n",
       "      <td>T</td>\n",
       "    </tr>\n",
       "  </tbody>\n",
       "</table>\n",
       "<p>1000 rows × 3 columns</p>\n",
       "</div>"
      ],
      "text/plain": [
       "     1  2  3\n",
       "0    H  T  T\n",
       "1    H  T  T\n",
       "2    H  H  H\n",
       "3    T  H  H\n",
       "4    T  H  T\n",
       "..  .. .. ..\n",
       "995  T  T  T\n",
       "996  H  H  H\n",
       "997  H  H  H\n",
       "998  H  H  T\n",
       "999  H  H  T\n",
       "\n",
       "[1000 rows x 3 columns]"
      ]
     },
     "execution_count": 16,
     "metadata": {},
     "output_type": "execute_result"
    }
   ],
   "source": [
    "game1 = Game([coin_fair, coin_fair, coin_fair]) #creating a fair game variable \n",
    "game2 = Game([coin_unfair1, coin_unfair1, coin_fair])#creating a unfair game variable \n",
    "game1.play(1000) # playing the game 1000 times \n",
    "game2.play(1000)# playing the game 1000 times "
   ]
  },
  {
   "cell_type": "markdown",
   "id": "1799d4f5",
   "metadata": {},
   "source": [
    "## creating analyzer variable "
   ]
  },
  {
   "cell_type": "code",
   "execution_count": 17,
   "id": "daf22e61",
   "metadata": {},
   "outputs": [],
   "source": [
    "analyzer1 = Analyzer(game1) \n",
    "analyzer2 = Analyzer(game2)"
   ]
  },
  {
   "cell_type": "code",
   "execution_count": 23,
   "id": "474910a5",
   "metadata": {},
   "outputs": [
    {
     "name": "stdout",
     "output_type": "stream",
     "text": [
      "game 1 with all the fair coins has 259 out of 1000 jackpots\n"
     ]
    }
   ],
   "source": [
    "print('game 1 with all the fair coins has {} out of 1000 jackpots'.format(analyzer1.jackpot()))"
   ]
  },
  {
   "cell_type": "code",
   "execution_count": 24,
   "id": "501e67aa",
   "metadata": {},
   "outputs": [
    {
     "name": "stdout",
     "output_type": "stream",
     "text": [
      "game 2 with two unfair coins has 370 out of 1000 jackpots\n"
     ]
    }
   ],
   "source": [
    "print('game 2 with two unfair coins has {} out of 1000 jackpots'.format(analyzer2.jackpot()))"
   ]
  },
  {
   "cell_type": "code",
   "execution_count": 25,
   "id": "08fa0b4a",
   "metadata": {},
   "outputs": [],
   "source": [
    "unique1 = analyzer1.unique_df\n",
    "unique2 = analyzer2.unique_df"
   ]
  },
  {
   "cell_type": "code",
   "execution_count": 33,
   "id": "00d2c620",
   "metadata": {},
   "outputs": [
    {
     "name": "stdout",
     "output_type": "stream",
     "text": [
      "game 1 with all the fair coins has 127 heads and 132 tail jackpots\n"
     ]
    }
   ],
   "source": [
    "print('game 1 with all the fair coins has {} heads and {} tail jackpots'.format((unique1[1] == 'H').sum(),  (unique1[1] == 'T').sum()))"
   ]
  },
  {
   "cell_type": "code",
   "execution_count": 34,
   "id": "39358113",
   "metadata": {},
   "outputs": [
    {
     "name": "stdout",
     "output_type": "stream",
     "text": [
      "game 2 with two unfair coins has 350 heads and 20 tail jackpots\n"
     ]
    }
   ],
   "source": [
    "print('game 2 with two unfair coins has {} heads and {} tail jackpots'.format((unique2[1] == 'H').sum(),  (unique2[1] == 'T').sum()))"
   ]
  },
  {
   "cell_type": "code",
   "execution_count": 47,
   "id": "18ce9623",
   "metadata": {},
   "outputs": [
    {
     "data": {
      "image/png": "[encoded data removed]",
      "text/plain": [
       "<Figure size 720x504 with 1 Axes>"
      ]
     },
     "metadata": {
      "needs_background": "light"
     },
     "output_type": "display_data"
    }
   ],
   "source": [
    "fig = plt.figure(figsize =(10, 7))\n",
    "plt.bar(['unfair game head jackpot', 'unfair game tail jackpot', 'fair game head jackpot', 'fair game tail jackpot'],\n",
    "        [(unique2[1] == 'H').sum(), (unique2[1] == 'T').sum(), (unique1[1] == 'H').sum(),  (unique1[1] == 'T').sum()])\n",
    "plt.show()"
   ]
  },
  {
   "cell_type": "markdown",
   "id": "d9ddfa6c",
   "metadata": {},
   "source": [
    "the unfair game is more bias towards head and the fair game is fair"
   ]
  },
  {
   "cell_type": "markdown",
   "id": "8fea6cac",
   "metadata": {},
   "source": [
    "# Scenario 2\n",
    "Creating a fair die and two unfair dice\n",
    "\n",
    "all of six sides with the faces 1 through 6.\n",
    "\n",
    "(Type 1) unfair die will weight 6 five times more than the others \n",
    "\n",
    "(Type 2) unfair die will weight 1 five times more than the others."
   ]
  },
  {
   "cell_type": "code",
   "execution_count": 52,
   "id": "627051ff",
   "metadata": {},
   "outputs": [],
   "source": [
    "die_fair = Die([1,2,3,4,5,6])\n",
    "die_unfair1 = Die([1,2,3,4,5,6])\n",
    "die_unfair1.change_the_weight(6, 5)\n",
    "die_unfair2 = Die([1,2,3,4,5,6])\n",
    "die_unfair1.change_the_weight(1, 5)"
   ]
  },
  {
   "cell_type": "code",
   "execution_count": 53,
   "id": "feaf32ea",
   "metadata": {},
   "outputs": [],
   "source": [
    "game1 = Game([die_fair, die_fair, die_fair, die_fair, die_fair])\n",
    "play1 = game1.play(10000)\n",
    "game2 = Game([die_unfair1, die_unfair1, die_unfair2, die_fair])\n",
    "play2 = game2.play(10000)\n",
    "\n",
    "analyzer1 = Analyzer(game1)\n",
    "analyzer2 = Analyzer(game2)\n",
    "\n",
    "\n"
   ]
  },
  {
   "cell_type": "code",
   "execution_count": 54,
   "id": "35c15a51",
   "metadata": {},
   "outputs": [],
   "source": [
    "analyzer1.face_counts_per_roll()\n"
   ]
  },
  {
   "cell_type": "code",
   "execution_count": 61,
   "id": "8f7a9059",
   "metadata": {},
   "outputs": [
    {
     "data": {
      "image/png": "[encoded data removed]",
      "text/plain": [
       "<Figure size 720x504 with 1 Axes>"
      ]
     },
     "metadata": {
      "needs_background": "light"
     },
     "output_type": "display_data"
    }
   ],
   "source": [
    "analyzer1.unique_df[:10]#.plot.bar()\n",
    "\n",
    "fig = plt.figure(figsize =(10, 7))\n",
    "plt.bar(['fair game jackpots', 'unfair game jackpots'],\n",
    "        [analyzer1.jackpot(), analyzer2.jackpot()])\n",
    "plt.show()"
   ]
  },
  {
   "cell_type": "markdown",
   "id": "45242972",
   "metadata": {},
   "source": [
    "the unfair game had alot more jackpots than the fair game "
   ]
  },
  {
   "cell_type": "code",
   "execution_count": 70,
   "id": "487c56b9",
   "metadata": {},
   "outputs": [
    {
     "data": {
      "image/png": "[encoded data removed]",
      "text/plain": [
       "<Figure size 432x288 with 1 Axes>"
      ]
     },
     "metadata": {
      "needs_background": "light"
     },
     "output_type": "display_data"
    }
   ],
   "source": [
    "\n",
    "analyzer1.combo()\n",
    "analyzer2.combo()\n",
    "analyzer1.combo_df[:10].plot.bar()\n",
    "plt.show()"
   ]
  },
  {
   "cell_type": "code",
   "execution_count": 69,
   "id": "c8f34196",
   "metadata": {},
   "outputs": [
    {
     "data": {
      "image/png": "[encoded data removed]",
      "text/plain": [
       "<Figure size 432x288 with 1 Axes>"
      ]
     },
     "metadata": {
      "needs_background": "light"
     },
     "output_type": "display_data"
    }
   ],
   "source": [
    "analyzer2.combo_df[:10].plot.bar()\n",
    "plt.show()"
   ]
  },
  {
   "cell_type": "markdown",
   "id": "c7ee28a1",
   "metadata": {},
   "source": [
    "the unfair game had alot more common combinations than the fair game "
   ]
  },
  {
   "cell_type": "markdown",
   "id": "2788d42d",
   "metadata": {},
   "source": []
  },
  {
   "cell_type": "markdown",
   "id": "9e9d4bdc",
   "metadata": {},
   "source": [
    "# Scenario 3\n",
    "Creating a die of letters from a to z with weights based on their frequency on the  Appendix."
   ]
  },
  {
   "cell_type": "code",
   "execution_count": 73,
   "id": "ac911417",
   "metadata": {},
   "outputs": [],
   "source": [
    "#from the Appendix\n",
    "Appendix = '''A,8.4966\n",
    "B,2.0720\n",
    "C,4.5388\n",
    "D,3.3844\n",
    "E,11.1607\n",
    "F,1.8121\n",
    "G,2.4705\n",
    "H,3.0034\n",
    "I,7.5448\n",
    "J,0.1965\n",
    "K,1.1016\n",
    "L,5.4893\n",
    "M,3.0129\n",
    "N,6.6544\n",
    "O,7.1635\n",
    "P,3.1671\n",
    "Q,0.1962\n",
    "R,7.5809\n",
    "S,5.7351\n",
    "T,6.9509\n",
    "U,3.6308\n",
    "V,1.0074\n",
    "W,1.2899\n",
    "X,0.2902\n",
    "Y,1.7779\n",
    "Z,0.2722'''\n",
    "\n",
    "def apendix_todf(df):\n",
    "    a  = df.split(',')[0]\n",
    "    b = df.split(',')[1]\n",
    "    return pd.Series([a,b])\n",
    "apendix_df = pd.Series(Appendix.split('\\n')).apply(apendix_todf) # trying to turn the apendix into dataframe"
   ]
  },
  {
   "cell_type": "code",
   "execution_count": 74,
   "id": "740c9651",
   "metadata": {},
   "outputs": [],
   "source": [
    "alphabet_die = Die(apendix_df[0]) # creating a die "
   ]
  },
  {
   "cell_type": "markdown",
   "id": "11e8066a",
   "metadata": {},
   "source": [
    "chaning the weights "
   ]
  },
  {
   "cell_type": "code",
   "execution_count": 75,
   "id": "faf90f1f",
   "metadata": {},
   "outputs": [
    {
     "data": {
      "text/html": [
       "<div>\n",
       "<style scoped>\n",
       "    .dataframe tbody tr th:only-of-type {\n",
       "        vertical-align: middle;\n",
       "    }\n",
       "\n",
       "    .dataframe tbody tr th {\n",
       "        vertical-align: top;\n",
       "    }\n",
       "\n",
       "    .dataframe thead th {\n",
       "        text-align: right;\n",
       "    }\n",
       "</style>\n",
       "<table border=\"1\" class=\"dataframe\">\n",
       "  <thead>\n",
       "    <tr style=\"text-align: right;\">\n",
       "      <th></th>\n",
       "      <th>Faces</th>\n",
       "      <th>weights</th>\n",
       "    </tr>\n",
       "  </thead>\n",
       "  <tbody>\n",
       "    <tr>\n",
       "      <th>0</th>\n",
       "      <td>A</td>\n",
       "      <td>8.4966</td>\n",
       "    </tr>\n",
       "    <tr>\n",
       "      <th>1</th>\n",
       "      <td>B</td>\n",
       "      <td>2.0720</td>\n",
       "    </tr>\n",
       "    <tr>\n",
       "      <th>2</th>\n",
       "      <td>C</td>\n",
       "      <td>4.5388</td>\n",
       "    </tr>\n",
       "    <tr>\n",
       "      <th>3</th>\n",
       "      <td>D</td>\n",
       "      <td>3.3844</td>\n",
       "    </tr>\n",
       "    <tr>\n",
       "      <th>4</th>\n",
       "      <td>E</td>\n",
       "      <td>11.1607</td>\n",
       "    </tr>\n",
       "    <tr>\n",
       "      <th>5</th>\n",
       "      <td>F</td>\n",
       "      <td>1.8121</td>\n",
       "    </tr>\n",
       "    <tr>\n",
       "      <th>6</th>\n",
       "      <td>G</td>\n",
       "      <td>2.4705</td>\n",
       "    </tr>\n",
       "    <tr>\n",
       "      <th>7</th>\n",
       "      <td>H</td>\n",
       "      <td>3.0034</td>\n",
       "    </tr>\n",
       "    <tr>\n",
       "      <th>8</th>\n",
       "      <td>I</td>\n",
       "      <td>7.5448</td>\n",
       "    </tr>\n",
       "    <tr>\n",
       "      <th>9</th>\n",
       "      <td>J</td>\n",
       "      <td>0.1965</td>\n",
       "    </tr>\n",
       "    <tr>\n",
       "      <th>10</th>\n",
       "      <td>K</td>\n",
       "      <td>1.1016</td>\n",
       "    </tr>\n",
       "    <tr>\n",
       "      <th>11</th>\n",
       "      <td>L</td>\n",
       "      <td>5.4893</td>\n",
       "    </tr>\n",
       "    <tr>\n",
       "      <th>12</th>\n",
       "      <td>M</td>\n",
       "      <td>3.0129</td>\n",
       "    </tr>\n",
       "    <tr>\n",
       "      <th>13</th>\n",
       "      <td>N</td>\n",
       "      <td>6.6544</td>\n",
       "    </tr>\n",
       "    <tr>\n",
       "      <th>14</th>\n",
       "      <td>O</td>\n",
       "      <td>7.1635</td>\n",
       "    </tr>\n",
       "    <tr>\n",
       "      <th>15</th>\n",
       "      <td>P</td>\n",
       "      <td>3.1671</td>\n",
       "    </tr>\n",
       "    <tr>\n",
       "      <th>16</th>\n",
       "      <td>Q</td>\n",
       "      <td>0.1962</td>\n",
       "    </tr>\n",
       "    <tr>\n",
       "      <th>17</th>\n",
       "      <td>R</td>\n",
       "      <td>7.5809</td>\n",
       "    </tr>\n",
       "    <tr>\n",
       "      <th>18</th>\n",
       "      <td>S</td>\n",
       "      <td>5.7351</td>\n",
       "    </tr>\n",
       "    <tr>\n",
       "      <th>19</th>\n",
       "      <td>T</td>\n",
       "      <td>6.9509</td>\n",
       "    </tr>\n",
       "    <tr>\n",
       "      <th>20</th>\n",
       "      <td>U</td>\n",
       "      <td>3.6308</td>\n",
       "    </tr>\n",
       "    <tr>\n",
       "      <th>21</th>\n",
       "      <td>V</td>\n",
       "      <td>1.0074</td>\n",
       "    </tr>\n",
       "    <tr>\n",
       "      <th>22</th>\n",
       "      <td>W</td>\n",
       "      <td>1.2899</td>\n",
       "    </tr>\n",
       "    <tr>\n",
       "      <th>23</th>\n",
       "      <td>X</td>\n",
       "      <td>0.2902</td>\n",
       "    </tr>\n",
       "    <tr>\n",
       "      <th>24</th>\n",
       "      <td>Y</td>\n",
       "      <td>1.7779</td>\n",
       "    </tr>\n",
       "    <tr>\n",
       "      <th>25</th>\n",
       "      <td>Z</td>\n",
       "      <td>0.2722</td>\n",
       "    </tr>\n",
       "  </tbody>\n",
       "</table>\n",
       "</div>"
      ],
      "text/plain": [
       "   Faces  weights\n",
       "0      A   8.4966\n",
       "1      B   2.0720\n",
       "2      C   4.5388\n",
       "3      D   3.3844\n",
       "4      E  11.1607\n",
       "5      F   1.8121\n",
       "6      G   2.4705\n",
       "7      H   3.0034\n",
       "8      I   7.5448\n",
       "9      J   0.1965\n",
       "10     K   1.1016\n",
       "11     L   5.4893\n",
       "12     M   3.0129\n",
       "13     N   6.6544\n",
       "14     O   7.1635\n",
       "15     P   3.1671\n",
       "16     Q   0.1962\n",
       "17     R   7.5809\n",
       "18     S   5.7351\n",
       "19     T   6.9509\n",
       "20     U   3.6308\n",
       "21     V   1.0074\n",
       "22     W   1.2899\n",
       "23     X   0.2902\n",
       "24     Y   1.7779\n",
       "25     Z   0.2722"
      ]
     },
     "execution_count": 75,
     "metadata": {},
     "output_type": "execute_result"
    }
   ],
   "source": [
    "apendix_df.apply(lambda x: alphabet_die.change_the_weight(x[0], x[1]), axis=1) #chaning the weights \n",
    "alphabet_die.show()"
   ]
  },
  {
   "cell_type": "markdown",
   "id": "22c3bd0e",
   "metadata": {},
   "source": [
    "creating a game "
   ]
  },
  {
   "cell_type": "code",
   "execution_count": 76,
   "id": "900ca8fb",
   "metadata": {},
   "outputs": [
    {
     "data": {
      "text/html": [
       "<div>\n",
       "<style scoped>\n",
       "    .dataframe tbody tr th:only-of-type {\n",
       "        vertical-align: middle;\n",
       "    }\n",
       "\n",
       "    .dataframe tbody tr th {\n",
       "        vertical-align: top;\n",
       "    }\n",
       "\n",
       "    .dataframe thead th {\n",
       "        text-align: right;\n",
       "    }\n",
       "</style>\n",
       "<table border=\"1\" class=\"dataframe\">\n",
       "  <thead>\n",
       "    <tr style=\"text-align: right;\">\n",
       "      <th></th>\n",
       "      <th>1</th>\n",
       "      <th>2</th>\n",
       "      <th>3</th>\n",
       "      <th>4</th>\n",
       "      <th>5</th>\n",
       "    </tr>\n",
       "  </thead>\n",
       "  <tbody>\n",
       "    <tr>\n",
       "      <th>0</th>\n",
       "      <td>R</td>\n",
       "      <td>W</td>\n",
       "      <td>N</td>\n",
       "      <td>A</td>\n",
       "      <td>U</td>\n",
       "    </tr>\n",
       "    <tr>\n",
       "      <th>1</th>\n",
       "      <td>N</td>\n",
       "      <td>O</td>\n",
       "      <td>T</td>\n",
       "      <td>S</td>\n",
       "      <td>F</td>\n",
       "    </tr>\n",
       "    <tr>\n",
       "      <th>2</th>\n",
       "      <td>C</td>\n",
       "      <td>I</td>\n",
       "      <td>O</td>\n",
       "      <td>Z</td>\n",
       "      <td>S</td>\n",
       "    </tr>\n",
       "    <tr>\n",
       "      <th>3</th>\n",
       "      <td>M</td>\n",
       "      <td>A</td>\n",
       "      <td>R</td>\n",
       "      <td>A</td>\n",
       "      <td>B</td>\n",
       "    </tr>\n",
       "    <tr>\n",
       "      <th>4</th>\n",
       "      <td>A</td>\n",
       "      <td>L</td>\n",
       "      <td>L</td>\n",
       "      <td>L</td>\n",
       "      <td>S</td>\n",
       "    </tr>\n",
       "    <tr>\n",
       "      <th>...</th>\n",
       "      <td>...</td>\n",
       "      <td>...</td>\n",
       "      <td>...</td>\n",
       "      <td>...</td>\n",
       "      <td>...</td>\n",
       "    </tr>\n",
       "    <tr>\n",
       "      <th>995</th>\n",
       "      <td>A</td>\n",
       "      <td>O</td>\n",
       "      <td>B</td>\n",
       "      <td>N</td>\n",
       "      <td>E</td>\n",
       "    </tr>\n",
       "    <tr>\n",
       "      <th>996</th>\n",
       "      <td>P</td>\n",
       "      <td>A</td>\n",
       "      <td>B</td>\n",
       "      <td>U</td>\n",
       "      <td>T</td>\n",
       "    </tr>\n",
       "    <tr>\n",
       "      <th>997</th>\n",
       "      <td>I</td>\n",
       "      <td>G</td>\n",
       "      <td>G</td>\n",
       "      <td>V</td>\n",
       "      <td>O</td>\n",
       "    </tr>\n",
       "    <tr>\n",
       "      <th>998</th>\n",
       "      <td>C</td>\n",
       "      <td>N</td>\n",
       "      <td>U</td>\n",
       "      <td>I</td>\n",
       "      <td>H</td>\n",
       "    </tr>\n",
       "    <tr>\n",
       "      <th>999</th>\n",
       "      <td>E</td>\n",
       "      <td>T</td>\n",
       "      <td>O</td>\n",
       "      <td>I</td>\n",
       "      <td>F</td>\n",
       "    </tr>\n",
       "  </tbody>\n",
       "</table>\n",
       "<p>1000 rows × 5 columns</p>\n",
       "</div>"
      ],
      "text/plain": [
       "     1  2  3  4  5\n",
       "0    R  W  N  A  U\n",
       "1    N  O  T  S  F\n",
       "2    C  I  O  Z  S\n",
       "3    M  A  R  A  B\n",
       "4    A  L  L  L  S\n",
       "..  .. .. .. .. ..\n",
       "995  A  O  B  N  E\n",
       "996  P  A  B  U  T\n",
       "997  I  G  G  V  O\n",
       "998  C  N  U  I  H\n",
       "999  E  T  O  I  F\n",
       "\n",
       "[1000 rows x 5 columns]"
      ]
     },
     "execution_count": 76,
     "metadata": {},
     "output_type": "execute_result"
    }
   ],
   "source": [
    "game_alphabet = Game([alphabet_die, alphabet_die, alphabet_die, alphabet_die, alphabet_die]) \n",
    "game_alphabet.play(1000)"
   ]
  },
  {
   "cell_type": "markdown",
   "id": "c4dacd2c",
   "metadata": {},
   "source": [
    "running a sample "
   ]
  },
  {
   "cell_type": "code",
   "execution_count": 86,
   "id": "1d76a623",
   "metadata": {},
   "outputs": [
    {
     "data": {
      "text/html": [
       "<div>\n",
       "<style scoped>\n",
       "    .dataframe tbody tr th:only-of-type {\n",
       "        vertical-align: middle;\n",
       "    }\n",
       "\n",
       "    .dataframe tbody tr th {\n",
       "        vertical-align: top;\n",
       "    }\n",
       "\n",
       "    .dataframe thead th {\n",
       "        text-align: right;\n",
       "    }\n",
       "</style>\n",
       "<table border=\"1\" class=\"dataframe\">\n",
       "  <thead>\n",
       "    <tr style=\"text-align: right;\">\n",
       "      <th></th>\n",
       "      <th>1</th>\n",
       "      <th>2</th>\n",
       "      <th>3</th>\n",
       "      <th>4</th>\n",
       "      <th>5</th>\n",
       "    </tr>\n",
       "  </thead>\n",
       "  <tbody>\n",
       "    <tr>\n",
       "      <th>348</th>\n",
       "      <td>R</td>\n",
       "      <td>C</td>\n",
       "      <td>R</td>\n",
       "      <td>H</td>\n",
       "      <td>S</td>\n",
       "    </tr>\n",
       "    <tr>\n",
       "      <th>138</th>\n",
       "      <td>C</td>\n",
       "      <td>D</td>\n",
       "      <td>X</td>\n",
       "      <td>L</td>\n",
       "      <td>N</td>\n",
       "    </tr>\n",
       "    <tr>\n",
       "      <th>790</th>\n",
       "      <td>K</td>\n",
       "      <td>B</td>\n",
       "      <td>H</td>\n",
       "      <td>T</td>\n",
       "      <td>O</td>\n",
       "    </tr>\n",
       "    <tr>\n",
       "      <th>442</th>\n",
       "      <td>E</td>\n",
       "      <td>T</td>\n",
       "      <td>E</td>\n",
       "      <td>U</td>\n",
       "      <td>H</td>\n",
       "    </tr>\n",
       "    <tr>\n",
       "      <th>314</th>\n",
       "      <td>G</td>\n",
       "      <td>A</td>\n",
       "      <td>E</td>\n",
       "      <td>C</td>\n",
       "      <td>R</td>\n",
       "    </tr>\n",
       "    <tr>\n",
       "      <th>485</th>\n",
       "      <td>E</td>\n",
       "      <td>R</td>\n",
       "      <td>I</td>\n",
       "      <td>G</td>\n",
       "      <td>I</td>\n",
       "    </tr>\n",
       "    <tr>\n",
       "      <th>412</th>\n",
       "      <td>L</td>\n",
       "      <td>M</td>\n",
       "      <td>I</td>\n",
       "      <td>G</td>\n",
       "      <td>A</td>\n",
       "    </tr>\n",
       "    <tr>\n",
       "      <th>730</th>\n",
       "      <td>U</td>\n",
       "      <td>S</td>\n",
       "      <td>E</td>\n",
       "      <td>G</td>\n",
       "      <td>F</td>\n",
       "    </tr>\n",
       "    <tr>\n",
       "      <th>509</th>\n",
       "      <td>T</td>\n",
       "      <td>U</td>\n",
       "      <td>M</td>\n",
       "      <td>P</td>\n",
       "      <td>B</td>\n",
       "    </tr>\n",
       "    <tr>\n",
       "      <th>149</th>\n",
       "      <td>F</td>\n",
       "      <td>I</td>\n",
       "      <td>M</td>\n",
       "      <td>T</td>\n",
       "      <td>W</td>\n",
       "    </tr>\n",
       "  </tbody>\n",
       "</table>\n",
       "</div>"
      ],
      "text/plain": [
       "     1  2  3  4  5\n",
       "348  R  C  R  H  S\n",
       "138  C  D  X  L  N\n",
       "790  K  B  H  T  O\n",
       "442  E  T  E  U  H\n",
       "314  G  A  E  C  R\n",
       "485  E  R  I  G  I\n",
       "412  L  M  I  G  A\n",
       "730  U  S  E  G  F\n",
       "509  T  U  M  P  B\n",
       "149  F  I  M  T  W"
      ]
     },
     "execution_count": 86,
     "metadata": {},
     "output_type": "execute_result"
    }
   ],
   "source": [
    "game_alphabet.show().sample(10)"
   ]
  },
  {
   "cell_type": "markdown",
   "id": "83fdb6ec",
   "metadata": {},
   "source": [
    "after running the sample 10 times (looking at 100 words) I found 8/100 words were english"
   ]
  },
  {
   "cell_type": "code",
   "execution_count": null,
   "id": "5077fadd",
   "metadata": {},
   "outputs": [],
   "source": []
  }
 ],
 "metadata": {
  "kernelspec": {
   "display_name": "Python 3 (ipykernel)",
   "language": "python",
   "name": "python3"
  },
  "language_info": {
   "codemirror_mode": {
    "name": "ipython",
    "version": 3
   },
   "file_extension": ".py",
   "mimetype": "text/x-python",
   "name": "python",
   "nbconvert_exporter": "python",
   "pygments_lexer": "ipython3",
   "version": "3.9.12"
  }
 },
 "nbformat": 4,
 "nbformat_minor": 5
}
